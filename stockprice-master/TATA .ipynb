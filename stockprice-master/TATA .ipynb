{
 "cells": [
  {
   "cell_type": "markdown",
   "metadata": {},
   "source": [
    "## 使用Keras长期短记忆预测股票价格\n",
    "\n",
    "### 对应文章链接(https://mp.weixin.qq.com/s/jF4AX8RtCYuvlsaf-CNbWg)"
   ]
  },
  {
   "cell_type": "code",
   "execution_count": 2,
   "metadata": {},
   "outputs": [],
   "source": [
    "# Part 1 - 数据预处理\n",
    "\n",
    "# 导入库\n",
    "import numpy as np\n",
    "import matplotlib.pyplot as plt\n",
    "import pandas as pd"
   ]
  },
  {
   "cell_type": "code",
   "execution_count": 128,
   "metadata": {},
   "outputs": [],
   "source": [
    "# 导入训练集\n",
    "dataset_train = pd.read_csv('NSE-TATAGLOBAL.csv')\n",
    "# 选取训练集第二列'Open'的所有行\n",
    "training_set = dataset_train.iloc[:, 1:2].values"
   ]
  },
  {
   "cell_type": "code",
   "execution_count": 129,
   "metadata": {},
   "outputs": [
    {
     "name": "stdout",
     "output_type": "stream",
     "text": [
      "(2035, 8)\n"
     ]
    },
    {
     "data": {
      "text/html": [
       "<div>\n",
       "<style scoped>\n",
       "    .dataframe tbody tr th:only-of-type {\n",
       "        vertical-align: middle;\n",
       "    }\n",
       "\n",
       "    .dataframe tbody tr th {\n",
       "        vertical-align: top;\n",
       "    }\n",
       "\n",
       "    .dataframe thead th {\n",
       "        text-align: right;\n",
       "    }\n",
       "</style>\n",
       "<table border=\"1\" class=\"dataframe\">\n",
       "  <thead>\n",
       "    <tr style=\"text-align: right;\">\n",
       "      <th></th>\n",
       "      <th>Date</th>\n",
       "      <th>Open</th>\n",
       "      <th>High</th>\n",
       "      <th>Low</th>\n",
       "      <th>Last</th>\n",
       "      <th>Close</th>\n",
       "      <th>Total Trade Quantity</th>\n",
       "      <th>Turnover (Lacs)</th>\n",
       "    </tr>\n",
       "  </thead>\n",
       "  <tbody>\n",
       "    <tr>\n",
       "      <th>0</th>\n",
       "      <td>2018-09-28</td>\n",
       "      <td>234.05</td>\n",
       "      <td>235.95</td>\n",
       "      <td>230.20</td>\n",
       "      <td>233.50</td>\n",
       "      <td>233.75</td>\n",
       "      <td>3069914</td>\n",
       "      <td>7162.35</td>\n",
       "    </tr>\n",
       "    <tr>\n",
       "      <th>1</th>\n",
       "      <td>2018-09-27</td>\n",
       "      <td>234.55</td>\n",
       "      <td>236.80</td>\n",
       "      <td>231.10</td>\n",
       "      <td>233.80</td>\n",
       "      <td>233.25</td>\n",
       "      <td>5082859</td>\n",
       "      <td>11859.95</td>\n",
       "    </tr>\n",
       "    <tr>\n",
       "      <th>2</th>\n",
       "      <td>2018-09-26</td>\n",
       "      <td>240.00</td>\n",
       "      <td>240.00</td>\n",
       "      <td>232.50</td>\n",
       "      <td>235.00</td>\n",
       "      <td>234.25</td>\n",
       "      <td>2240909</td>\n",
       "      <td>5248.60</td>\n",
       "    </tr>\n",
       "    <tr>\n",
       "      <th>3</th>\n",
       "      <td>2018-09-25</td>\n",
       "      <td>233.30</td>\n",
       "      <td>236.75</td>\n",
       "      <td>232.00</td>\n",
       "      <td>236.25</td>\n",
       "      <td>236.10</td>\n",
       "      <td>2349368</td>\n",
       "      <td>5503.90</td>\n",
       "    </tr>\n",
       "    <tr>\n",
       "      <th>4</th>\n",
       "      <td>2018-09-24</td>\n",
       "      <td>233.55</td>\n",
       "      <td>239.20</td>\n",
       "      <td>230.75</td>\n",
       "      <td>234.00</td>\n",
       "      <td>233.30</td>\n",
       "      <td>3423509</td>\n",
       "      <td>7999.55</td>\n",
       "    </tr>\n",
       "  </tbody>\n",
       "</table>\n",
       "</div>"
      ],
      "text/plain": [
       "         Date    Open    High     Low    Last   Close  Total Trade Quantity  \\\n",
       "0  2018-09-28  234.05  235.95  230.20  233.50  233.75               3069914   \n",
       "1  2018-09-27  234.55  236.80  231.10  233.80  233.25               5082859   \n",
       "2  2018-09-26  240.00  240.00  232.50  235.00  234.25               2240909   \n",
       "3  2018-09-25  233.30  236.75  232.00  236.25  236.10               2349368   \n",
       "4  2018-09-24  233.55  239.20  230.75  234.00  233.30               3423509   \n",
       "\n",
       "   Turnover (Lacs)  \n",
       "0          7162.35  \n",
       "1         11859.95  \n",
       "2          5248.60  \n",
       "3          5503.90  \n",
       "4          7999.55  "
      ]
     },
     "execution_count": 129,
     "metadata": {},
     "output_type": "execute_result"
    }
   ],
   "source": [
    "# 查看训练集数据的表头\n",
    "print(dataset_train.shape)\n",
    "dataset_train.head()"
   ]
  },
  {
   "cell_type": "code",
   "execution_count": 130,
   "metadata": {},
   "outputs": [],
   "source": [
    "# 特征缩放.\n",
    "\n",
    "# 将training_set即Open列数据缩放在（0,1）之间，数据标准化，方便比较。\n",
    "from sklearn.preprocessing import MinMaxScaler\n",
    "sc = MinMaxScaler(feature_range = (0, 1))\n",
    "training_set_scaled = sc.fit_transform(training_set)"
   ]
  },
  {
   "cell_type": "code",
   "execution_count": 131,
   "metadata": {},
   "outputs": [],
   "source": [
    "# 创建具有60个时间步长和1个输出的数据结构，每一步表示一个特征。\n",
    "X_train = []\n",
    "y_train = []\n",
    "for i in range(60, 2035):\n",
    "    # 1975 个 数据量为60的numpy.ndarray组成的list\n",
    "    X_train.append(training_set_scaled[i-60:i, 0])\n",
    "    # 1975 个 数据,组成的list\n",
    "    y_train.append(training_set_scaled[i, 0])\n",
    "X_train, y_train = np.array(X_train), np.array(y_train)"
   ]
  },
  {
   "cell_type": "code",
   "execution_count": 132,
   "metadata": {},
   "outputs": [],
   "source": [
    "# 将二维数组转为三维数组,shape为( 1975, 60，1 )\n",
    "X_train = np.reshape(X_train, (X_train.shape[0], X_train.shape[1], 1))"
   ]
  },
  {
   "cell_type": "code",
   "execution_count": 133,
   "metadata": {},
   "outputs": [],
   "source": [
    "# Part 2 - 构建LSTM\n",
    "\n",
    "# 导入Keras库和包\n",
    "from keras.models import Sequential\n",
    "from keras.layers import Dense\n",
    "from keras.layers import LSTM\n",
    "from keras.layers import Dropout"
   ]
  },
  {
   "cell_type": "code",
   "execution_count": 134,
   "metadata": {},
   "outputs": [],
   "source": [
    "# 初始化RNN\n",
    "regressor = Sequential()\n",
    "\n",
    "# 添加第一个LSTM层和一些Dropout正则化\n",
    "# 50 units 表示输出空间是50维度的单位\n",
    "# return_sequences=True 表示是返回输出序列的完整序列\n",
    "# input_shape 训练集的大小(60,1)\n",
    "regressor.add(LSTM(units = 50, return_sequences = True, input_shape = (X_train.shape[1], 1)))\n",
    "# 定义Dropout层，Dropout(0.2)-->删除20%的层\n",
    "regressor.add(Dropout(0.2))"
   ]
  },
  {
   "cell_type": "code",
   "execution_count": 135,
   "metadata": {},
   "outputs": [],
   "source": [
    "# 添加第二个LSTM层和一些Dropout正则化\n",
    "regressor.add(LSTM(units = 50, return_sequences = True))\n",
    "regressor.add(Dropout(0.2))"
   ]
  },
  {
   "cell_type": "code",
   "execution_count": 136,
   "metadata": {},
   "outputs": [],
   "source": [
    "\n",
    "# 添加第三个LSTM层和一些Dropout正则化\n",
    "regressor.add(LSTM(units = 50, return_sequences = True))\n",
    "regressor.add(Dropout(0.2))"
   ]
  },
  {
   "cell_type": "code",
   "execution_count": 137,
   "metadata": {},
   "outputs": [],
   "source": [
    "# 添加第四个LSTM层和一些Dropout正则化\n",
    "regressor.add(LSTM(units = 50))\n",
    "regressor.add(Dropout(0.2))\n"
   ]
  },
  {
   "cell_type": "code",
   "execution_count": 71,
   "metadata": {},
   "outputs": [
    {
     "name": "stderr",
     "output_type": "stream",
     "text": [
      "W0703 21:19:03.339617  7560 deprecation_wrapper.py:119] From D:\\Anaconda3\\lib\\site-packages\\keras\\optimizers.py:790: The name tf.train.Optimizer is deprecated. Please use tf.compat.v1.train.Optimizer instead.\n",
      "\n",
      "W0703 21:19:03.750641  7560 deprecation.py:323] From D:\\Anaconda3\\lib\\site-packages\\tensorflow\\python\\ops\\math_grad.py:1250: add_dispatch_support.<locals>.wrapper (from tensorflow.python.ops.array_ops) is deprecated and will be removed in a future version.\n",
      "Instructions for updating:\n",
      "Use tf.where in 2.0, which has the same broadcast rule as np.where\n"
     ]
    },
    {
     "name": "stdout",
     "output_type": "stream",
     "text": [
      "Epoch 1/100\n",
      "1975/1975 [==============================] - 15s 8ms/step - loss: 0.0138\n",
      "Epoch 2/100\n",
      "1975/1975 [==============================] - 12s 6ms/step - loss: 0.0028\n",
      "Epoch 3/100\n",
      "1975/1975 [==============================] - 11s 6ms/step - loss: 0.0027\n",
      "Epoch 4/100\n",
      "1975/1975 [==============================] - 11s 6ms/step - loss: 0.0023\n",
      "Epoch 5/100\n",
      "1975/1975 [==============================] - 11s 6ms/step - loss: 0.0026\n",
      "Epoch 6/100\n",
      "1975/1975 [==============================] - 11s 6ms/step - loss: 0.0022\n",
      "Epoch 7/100\n",
      "1975/1975 [==============================] - 11s 6ms/step - loss: 0.0022: 8s -  - ETA: 1s - lo\n",
      "Epoch 8/100\n",
      "1975/1975 [==============================] - 11s 6ms/step - loss: 0.0022\n",
      "Epoch 9/100\n",
      "1975/1975 [==============================] - 11s 6ms/step - loss: 0.0020- ETA: 0s - loss: 0.00 - ETA: 0s - loss: 0.002\n",
      "Epoch 10/100\n",
      "1975/1975 [==============================] - 11s 6ms/step - loss: 0.0017: 0s - loss: 0.00\n",
      "Epoch 11/100\n",
      "1975/1975 [==============================] - 11s 6ms/step - loss: 0.0018\n",
      "Epoch 12/100\n",
      "1975/1975 [==============================] - 11s 6ms/step - loss: 0.0018\n",
      "Epoch 13/100\n",
      "1975/1975 [==============================] - 11s 6ms/step - loss: 0.0017\n",
      "Epoch 14/100\n",
      "1975/1975 [==============================] - 11s 6ms/step - loss: 0.0016\n",
      "Epoch 15/100\n",
      "1975/1975 [==============================] - 11s 6ms/step - loss: 0.0017\n",
      "Epoch 16/100\n",
      "1975/1975 [==============================] - 11s 6ms/step - loss: 0.0016\n",
      "Epoch 17/100\n",
      "1975/1975 [==============================] - 11s 6ms/step - loss: 0.0016\n",
      "Epoch 18/100\n",
      "1975/1975 [==============================] - 11s 6ms/step - loss: 0.0014\n",
      "Epoch 19/100\n",
      "1975/1975 [==============================] - 11s 6ms/step - loss: 0.0014\n",
      "Epoch 20/100\n",
      "1975/1975 [==============================] - 12s 6ms/step - loss: 0.0013\n",
      "Epoch 21/100\n",
      "1975/1975 [==============================] - 12s 6ms/step - loss: 0.0014\n",
      "Epoch 22/100\n",
      "1975/1975 [==============================] - 11s 6ms/step - loss: 0.0013\n",
      "Epoch 23/100\n",
      "1975/1975 [==============================] - 11s 6ms/step - loss: 0.0015\n",
      "Epoch 24/100\n",
      "1975/1975 [==============================] - 11s 6ms/step - loss: 0.0013\n",
      "Epoch 25/100\n",
      "1975/1975 [==============================] - 11s 6ms/step - loss: 0.0013\n",
      "Epoch 26/100\n",
      "1975/1975 [==============================] - 11s 6ms/step - loss: 0.0013\n",
      "Epoch 27/100\n",
      "1975/1975 [==============================] - 11s 6ms/step - loss: 0.0013: 2s -\n",
      "Epoch 28/100\n",
      "1975/1975 [==============================] - 11s 6ms/step - loss: 0.0012\n",
      "Epoch 29/100\n",
      "1975/1975 [==============================] - 11s 6ms/step - loss: 0.0010\n",
      "Epoch 30/100\n",
      "1975/1975 [==============================] - 11s 6ms/step - loss: 0.0011\n",
      "Epoch 31/100\n",
      "1975/1975 [==============================] - 11s 6ms/step - loss: 0.0011\n",
      "Epoch 32/100\n",
      "1975/1975 [==============================] - 11s 6ms/step - loss: 0.0011\n",
      "Epoch 33/100\n",
      "1975/1975 [==============================] - 11s 6ms/step - loss: 0.0012: 2s - \n",
      "Epoch 34/100\n",
      "1975/1975 [==============================] - 11s 6ms/step - loss: 0.0011\n",
      "Epoch 35/100\n",
      "1975/1975 [==============================] - 11s 6ms/step - loss: 9.8014e-04\n",
      "Epoch 36/100\n",
      "1975/1975 [==============================] - 11s 6ms/step - loss: 9.2922e-04\n",
      "Epoch 37/100\n",
      "1975/1975 [==============================] - 11s 6ms/step - loss: 0.0010\n",
      "Epoch 38/100\n",
      "1975/1975 [==============================] - 11s 6ms/step - loss: 9.2435e-04\n",
      "Epoch 39/100\n",
      "1975/1975 [==============================] - 11s 6ms/step - loss: 9.0258e-04: 2s - lo\n",
      "Epoch 40/100\n",
      "1975/1975 [==============================] - 11s 6ms/step - loss: 8.6126e-04: 1s - loss: 8.30\n",
      "Epoch 41/100\n",
      "1975/1975 [==============================] - 11s 6ms/step - loss: 9.0397e-04: - ETA: 1s - loss: 8\n",
      "Epoch 42/100\n",
      "1975/1975 [==============================] - 11s 6ms/step - loss: 9.1952e-04\n",
      "Epoch 43/100\n",
      "1975/1975 [==============================] - 11s 6ms/step - loss: 8.8582e-04: 1s - loss: \n",
      "Epoch 44/100\n",
      "1975/1975 [==============================] - 11s 6ms/step - loss: 8.9340e-04: 2s - loss\n",
      "Epoch 45/100\n",
      "1975/1975 [==============================] - 11s 6ms/step - loss: 0.0010: 0s - loss: 0.001\n",
      "Epoch 46/100\n",
      "1975/1975 [==============================] - 11s 6ms/step - loss: 9.1324e-04\n",
      "Epoch 47/100\n",
      "1975/1975 [==============================] - 11s 6ms/step - loss: 9.7028e-04\n",
      "Epoch 48/100\n",
      "1975/1975 [==============================] - 11s 6ms/step - loss: 9.4697e-04\n",
      "Epoch 49/100\n",
      "1975/1975 [==============================] - 11s 6ms/step - loss: 8.8647e-04\n",
      "Epoch 50/100\n",
      "1975/1975 [==============================] - 11s 6ms/step - loss: 8.6852e-04\n",
      "Epoch 51/100\n",
      "1975/1975 [==============================] - 11s 6ms/step - loss: 8.8535e-04\n",
      "Epoch 52/100\n",
      "1975/1975 [==============================] - 11s 6ms/step - loss: 8.4754e-04\n",
      "Epoch 53/100\n",
      "1975/1975 [==============================] - 11s 6ms/step - loss: 7.4502e-04\n",
      "Epoch 54/100\n",
      "1975/1975 [==============================] - 11s 6ms/step - loss: 8.5263e-04\n",
      "Epoch 55/100\n",
      "1975/1975 [==============================] - 11s 6ms/step - loss: 8.1332e-04: 3s \n",
      "Epoch 56/100\n",
      "1975/1975 [==============================] - 11s 6ms/step - loss: 8.5505e-04: 5s - loss: 9.1311e- \n",
      "Epoch 57/100\n",
      "1975/1975 [==============================] - 11s 6ms/step - loss: 7.6135e-04\n",
      "Epoch 58/100\n",
      "1975/1975 [==============================] - 11s 6ms/step - loss: 7.8999e-04\n",
      "Epoch 59/100\n",
      "1975/1975 [==============================] - 11s 6ms/step - loss: 7.3947e-04\n",
      "Epoch 60/100\n",
      "1975/1975 [==============================] - 11s 6ms/step - loss: 7.6328e-04\n",
      "Epoch 61/100\n",
      "1975/1975 [==============================] - 11s 6ms/step - loss: 7.3448e-04\n",
      "Epoch 62/100\n",
      "1975/1975 [==============================] - 11s 6ms/step - loss: 7.2629e-04\n",
      "Epoch 63/100\n",
      "1975/1975 [==============================] - ETA: 0s - loss: 8.1318e-04- ETA: 8s - loss: 8.139 - ET - ETA: 3s - 11s 6ms/step - loss: 8.1440e-04\n",
      "Epoch 64/100\n",
      "1975/1975 [==============================] - 11s 6ms/step - loss: 8.7202e-04\n",
      "Epoch 65/100\n",
      "1975/1975 [==============================] - 12s 6ms/step - loss: 7.8646e-04\n",
      "Epoch 66/100\n",
      "1975/1975 [==============================] - 12s 6ms/step - loss: 7.8695e-04\n",
      "Epoch 67/100\n",
      "1975/1975 [==============================] - 12s 6ms/step - loss: 6.9532e-04: 1s - loss: \n",
      "Epoch 68/100\n",
      "1975/1975 [==============================] - 12s 6ms/step - loss: 7.2609e-04\n",
      "Epoch 69/100\n",
      "1975/1975 [==============================] - 12s 6ms/step - loss: 7.4353e-04\n",
      "Epoch 70/100\n",
      "1975/1975 [==============================] - 12s 6ms/step - loss: 7.3084e-04\n",
      "Epoch 71/100\n",
      "1975/1975 [==============================] - 12s 6ms/step - loss: 6.2343e-04\n",
      "Epoch 72/100\n",
      "1975/1975 [==============================] - 12s 6ms/step - loss: 6.7892e-04\n",
      "Epoch 73/100\n",
      "1975/1975 [==============================] - ETA: 0s - loss: 6.5433e-0 - 12s 6ms/step - loss: 6.5331e-04\n",
      "Epoch 74/100\n",
      "1975/1975 [==============================] - 12s 6ms/step - loss: 6.1359e-04\n",
      "Epoch 75/100\n",
      "1975/1975 [==============================] - 12s 6ms/step - loss: 7.1516e-04\n",
      "Epoch 76/100\n",
      "1975/1975 [==============================] - 12s 6ms/step - loss: 7.3746e-04\n",
      "Epoch 77/100\n",
      "1975/1975 [==============================] - 12s 6ms/step - loss: 6.7626e-04\n",
      "Epoch 78/100\n",
      "1975/1975 [==============================] - 12s 6ms/step - loss: 6.9941e-04\n",
      "Epoch 79/100\n",
      "1975/1975 [==============================] - 12s 6ms/step - loss: 7.6006e-04: 1s - loss: 7.\n",
      "Epoch 80/100\n",
      "1975/1975 [==============================] - 12s 6ms/step - loss: 7.4808e-04\n",
      "Epoch 81/100\n",
      "1975/1975 [==============================] - 12s 6ms/step - loss: 7.2819e-04\n",
      "Epoch 82/100\n",
      "1975/1975 [==============================] - 13s 6ms/step - loss: 6.8818e-04\n",
      "Epoch 83/100\n",
      "1975/1975 [==============================] - 12s 6ms/step - loss: 7.1680e-04\n",
      "Epoch 84/100\n",
      "1975/1975 [==============================] - 12s 6ms/step - loss: 7.3181e-04\n",
      "Epoch 85/100\n",
      "1975/1975 [==============================] - 12s 6ms/step - loss: 6.7672e-04\n",
      "Epoch 86/100\n",
      "1975/1975 [==============================] - 12s 6ms/step - loss: 6.4923e-04\n",
      "Epoch 87/100\n",
      "1975/1975 [==============================] - 12s 6ms/step - loss: 7.9060e-04\n",
      "Epoch 88/100\n",
      "1975/1975 [==============================] - 12s 6ms/step - loss: 6.9313e-04\n",
      "Epoch 89/100\n",
      "1975/1975 [==============================] - 12s 6ms/step - loss: 7.0709e-04\n"
     ]
    },
    {
     "name": "stdout",
     "output_type": "stream",
     "text": [
      "Epoch 90/100\n",
      "1975/1975 [==============================] - 11s 5ms/step - loss: 7.2317e-04\n",
      "Epoch 91/100\n",
      "1975/1975 [==============================] - 11s 5ms/step - loss: 6.8122e-04\n",
      "Epoch 92/100\n",
      "1975/1975 [==============================] - 11s 5ms/step - loss: 6.2297e-04\n",
      "Epoch 93/100\n",
      "1975/1975 [==============================] - 11s 5ms/step - loss: 6.0707e-04\n",
      "Epoch 94/100\n",
      "1975/1975 [==============================] - 11s 6ms/step - loss: 7.0171e-04\n",
      "Epoch 95/100\n",
      "1975/1975 [==============================] - 11s 6ms/step - loss: 7.0702e-04\n",
      "Epoch 96/100\n",
      "1975/1975 [==============================] - 11s 5ms/step - loss: 7.4431e-04\n",
      "Epoch 97/100\n",
      "1975/1975 [==============================] - 11s 5ms/step - loss: 7.5986e-04\n",
      "Epoch 98/100\n",
      "1975/1975 [==============================] - 11s 5ms/step - loss: 5.6607e-04\n",
      "Epoch 99/100\n",
      "1975/1975 [==============================] - 11s 5ms/step - loss: 6.3709e-04\n",
      "Epoch 100/100\n",
      "1975/1975 [==============================] - 11s 5ms/step - loss: 7.5872e-04\n"
     ]
    },
    {
     "data": {
      "text/plain": [
       "<keras.callbacks.History at 0x169ddd68>"
      ]
     },
     "execution_count": 71,
     "metadata": {},
     "output_type": "execute_result"
    }
   ],
   "source": [
    "# 添加输出图层\n",
    "regressor.add(Dense(units = 1))\n",
    "\n",
    "# 编译RNN\n",
    "regressor.compile(optimizer = 'adam', loss = 'mean_squared_error')\n",
    "\n",
    "# 将RNN安装到训练集\n",
    "regressor.fit(X_train, y_train, epochs = 100, batch_size = 32)\n",
    "\n"
   ]
  },
  {
   "cell_type": "code",
   "execution_count": 3,
   "metadata": {},
   "outputs": [
    {
     "data": {
      "text/plain": [
       "array([[220.1 ],\n",
       "       [221.1 ],\n",
       "       [229.45],\n",
       "       [230.3 ],\n",
       "       [237.7 ],\n",
       "       [237.1 ],\n",
       "       [229.7 ],\n",
       "       [226.25],\n",
       "       [215.  ],\n",
       "       [215.  ],\n",
       "       [215.5 ],\n",
       "       [208.  ],\n",
       "       [217.  ],\n",
       "       [223.5 ],\n",
       "       [230.  ],\n",
       "       [234.55]])"
      ]
     },
     "execution_count": 3,
     "metadata": {},
     "output_type": "execute_result"
    }
   ],
   "source": [
    "# Part 3 - 进行预测并可视化结果\n",
    "\n",
    "# 获得2018年的实际股票价格\n",
    "dataset_test = pd.read_csv('tatatest.csv')\n",
    "# 选取2018年的实际股票价格'Open'列数据,shape(16, 1)\n",
    "real_stock_price = dataset_test.iloc[:, 1:2].values\n",
    "real_stock_price"
   ]
  },
  {
   "cell_type": "code",
   "execution_count": 73,
   "metadata": {},
   "outputs": [],
   "source": [
    "# 获得2018年的预测股票价格\n",
    "\n",
    "# 纵向连接训练集'Open'列与测试集'Open'列\n",
    "dataset_total = pd.concat((dataset_train['Open'], dataset_test['Open']), axis = 0)\n",
    "# 选取dataset_total[1975:],共76个数据，其中有训练集60个，测试集16个\n",
    "inputs = dataset_total[len(dataset_total) - len(dataset_test) - 60:].values\n",
    "# 转为二维数组，shape(76,1)\n",
    "inputs = inputs.reshape(-1,1)\n",
    "# MinMaxScaler函数，将数据缩放到(0,1)之间，数据标准化，处理训练集时用.fit_transform,处理测试集时用.transform\n",
    "inputs = sc.transform(inputs)"
   ]
  },
  {
   "cell_type": "code",
   "execution_count": 75,
   "metadata": {},
   "outputs": [],
   "source": [
    "# 规整数据集\n",
    "\n",
    "X_test = []\n",
    "# 将时间步长设置为60\n",
    "for i in range(60, 76):\n",
    "    X_test.append(inputs[i-60:i, 0])\n",
    "#　列表数组化\n",
    "X_test = np.array(X_test)\n",
    "# 转为三维数组\n",
    "X_test = np.reshape(X_test, (X_test.shape[0], X_test.shape[1], 1))\n",
    "# 预测股票价格\n",
    "predicted_stock_price = regressor.predict(X_test)\n",
    "# inverse_transform函数处理，以返回正常可读格式的股票价格\n",
    "predicted_stock_price = sc.inverse_transform(predicted_stock_price)"
   ]
  },
  {
   "cell_type": "code",
   "execution_count": 76,
   "metadata": {},
   "outputs": [
    {
     "data": {
      "image/png": "[encoded data removed]",
      "text/plain": [
       "<Figure size 432x288 with 1 Axes>"
      ]
     },
     "metadata": {
      "needs_background": "light"
     },
     "output_type": "display_data"
    }
   ],
   "source": [
    "# 可视化结果\n",
    "plt.plot(real_stock_price, color = 'red', label = 'Real TATA Stock Price')\n",
    "plt.plot(predicted_stock_price, color = 'blue', label = 'Predicted TAT Stock Price')\n",
    "plt.title('TATA Stock Price Prediction')\n",
    "plt.xlabel('Time')\n",
    "plt.ylabel('TATA Stock Price')\n",
    "plt.legend()\n",
    "plt.show()"
   ]
  }
 ],
 "metadata": {
  "kernelspec": {
   "display_name": "Python 3",
   "language": "python",
   "name": "python3"
  },
  "language_info": {
   "codemirror_mode": {
    "name": "ipython",
    "version": 3
   },
   "file_extension": ".py",
   "mimetype": "text/x-python",
   "name": "python",
   "nbconvert_exporter": "python",
   "pygments_lexer": "ipython3",
   "version": "3.7.0"
  }
 },
 "nbformat": 4,
 "nbformat_minor": 2
}
