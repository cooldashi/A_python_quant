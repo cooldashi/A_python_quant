{
 "cells": [
  {
   "cell_type": "markdown",
   "metadata": {},
   "source": [
    "# Stock Prices Prediction Using Keras Long Term Short Memory\n",
    "## 使用Keras长期短记忆预测股票价格"
   ]
  },
  {
   "cell_type": "code",
   "execution_count": 16,
   "metadata": {},
   "outputs": [],
   "source": [
    "# Part 1 - 数据预处理\n",
    "\n",
    "# 导入库\n",
    "import numpy as np\n",
    "import matplotlib.pyplot as plt\n",
    "import pandas as pd"
   ]
  },
  {
   "cell_type": "code",
   "execution_count": 31,
   "metadata": {},
   "outputs": [
    {
     "name": "stdout",
     "output_type": "stream",
     "text": [
      "(2035, 1)\n"
     ]
    },
    {
     "data": {
      "text/plain": [
       "array([[234.05],\n",
       "       [234.55],\n",
       "       [240.  ],\n",
       "       ...,\n",
       "       [121.8 ],\n",
       "       [120.3 ],\n",
       "       [122.1 ]])"
      ]
     },
     "execution_count": 31,
     "metadata": {},
     "output_type": "execute_result"
    }
   ],
   "source": [
    "# 导入训练集\n",
    "dataset_train = pd.read_csv('NSE-TATAGLOBAL.csv')\n",
    "# 选取训练集第二列'Open'的所有行\n",
    "training_set = dataset_train.iloc[:, 1:2].values\n",
    "print(training_set.shape)\n",
    "training_set"
   ]
  },
  {
   "cell_type": "code",
   "execution_count": 18,
   "metadata": {},
   "outputs": [
    {
     "name": "stdout",
     "output_type": "stream",
     "text": [
      "(2035, 8)\n"
     ]
    },
    {
     "data": {
      "text/html": [
       "<div>\n",
       "<style scoped>\n",
       "    .dataframe tbody tr th:only-of-type {\n",
       "        vertical-align: middle;\n",
       "    }\n",
       "\n",
       "    .dataframe tbody tr th {\n",
       "        vertical-align: top;\n",
       "    }\n",
       "\n",
       "    .dataframe thead th {\n",
       "        text-align: right;\n",
       "    }\n",
       "</style>\n",
       "<table border=\"1\" class=\"dataframe\">\n",
       "  <thead>\n",
       "    <tr style=\"text-align: right;\">\n",
       "      <th></th>\n",
       "      <th>Date</th>\n",
       "      <th>Open</th>\n",
       "      <th>High</th>\n",
       "      <th>Low</th>\n",
       "      <th>Last</th>\n",
       "      <th>Close</th>\n",
       "      <th>Total Trade Quantity</th>\n",
       "      <th>Turnover (Lacs)</th>\n",
       "    </tr>\n",
       "  </thead>\n",
       "  <tbody>\n",
       "    <tr>\n",
       "      <th>0</th>\n",
       "      <td>2018-09-28</td>\n",
       "      <td>234.05</td>\n",
       "      <td>235.95</td>\n",
       "      <td>230.20</td>\n",
       "      <td>233.50</td>\n",
       "      <td>233.75</td>\n",
       "      <td>3069914</td>\n",
       "      <td>7162.35</td>\n",
       "    </tr>\n",
       "    <tr>\n",
       "      <th>1</th>\n",
       "      <td>2018-09-27</td>\n",
       "      <td>234.55</td>\n",
       "      <td>236.80</td>\n",
       "      <td>231.10</td>\n",
       "      <td>233.80</td>\n",
       "      <td>233.25</td>\n",
       "      <td>5082859</td>\n",
       "      <td>11859.95</td>\n",
       "    </tr>\n",
       "    <tr>\n",
       "      <th>2</th>\n",
       "      <td>2018-09-26</td>\n",
       "      <td>240.00</td>\n",
       "      <td>240.00</td>\n",
       "      <td>232.50</td>\n",
       "      <td>235.00</td>\n",
       "      <td>234.25</td>\n",
       "      <td>2240909</td>\n",
       "      <td>5248.60</td>\n",
       "    </tr>\n",
       "    <tr>\n",
       "      <th>3</th>\n",
       "      <td>2018-09-25</td>\n",
       "      <td>233.30</td>\n",
       "      <td>236.75</td>\n",
       "      <td>232.00</td>\n",
       "      <td>236.25</td>\n",
       "      <td>236.10</td>\n",
       "      <td>2349368</td>\n",
       "      <td>5503.90</td>\n",
       "    </tr>\n",
       "    <tr>\n",
       "      <th>4</th>\n",
       "      <td>2018-09-24</td>\n",
       "      <td>233.55</td>\n",
       "      <td>239.20</td>\n",
       "      <td>230.75</td>\n",
       "      <td>234.00</td>\n",
       "      <td>233.30</td>\n",
       "      <td>3423509</td>\n",
       "      <td>7999.55</td>\n",
       "    </tr>\n",
       "  </tbody>\n",
       "</table>\n",
       "</div>"
      ],
      "text/plain": [
       "         Date    Open    High     Low    Last   Close  Total Trade Quantity  \\\n",
       "0  2018-09-28  234.05  235.95  230.20  233.50  233.75               3069914   \n",
       "1  2018-09-27  234.55  236.80  231.10  233.80  233.25               5082859   \n",
       "2  2018-09-26  240.00  240.00  232.50  235.00  234.25               2240909   \n",
       "3  2018-09-25  233.30  236.75  232.00  236.25  236.10               2349368   \n",
       "4  2018-09-24  233.55  239.20  230.75  234.00  233.30               3423509   \n",
       "\n",
       "   Turnover (Lacs)  \n",
       "0          7162.35  \n",
       "1         11859.95  \n",
       "2          5248.60  \n",
       "3          5503.90  \n",
       "4          7999.55  "
      ]
     },
     "execution_count": 18,
     "metadata": {},
     "output_type": "execute_result"
    }
   ],
   "source": [
    "# 查看训练集数据的表头\n",
    "print(dataset_train.shape)\n",
    "dataset_train.head()"
   ]
  },
  {
   "cell_type": "code",
   "execution_count": 32,
   "metadata": {},
   "outputs": [
    {
     "data": {
      "text/plain": [
       "array([[0.6202352 ],\n",
       "       [0.62226277],\n",
       "       [0.64436334],\n",
       "       ...,\n",
       "       [0.16504461],\n",
       "       [0.15896188],\n",
       "       [0.16626115]])"
      ]
     },
     "execution_count": 32,
     "metadata": {},
     "output_type": "execute_result"
    }
   ],
   "source": [
    "# 特征缩放，将training_set即Open列数据缩放在（0,1）之间，数据标准化，方便比较。\n",
    "from sklearn.preprocessing import MinMaxScaler\n",
    "sc = MinMaxScaler(feature_range = (0, 1))\n",
    "training_set_scaled = sc.fit_transform(training_set)\n",
    "training_set_scaled"
   ]
  },
  {
   "cell_type": "code",
   "execution_count": 71,
   "metadata": {},
   "outputs": [],
   "source": [
    "# 创建具有60个时间步长和1个输出的数据结构，，每一步表示一个特征。\n",
    "X_train = []\n",
    "y_train = []\n",
    "for i in range(60, 2035):\n",
    "    X_train.append(training_set_scaled[i-60:i, 0])\n",
    "    y_train.append(training_set_scaled[i, 0])\n",
    "X_train, y_train = np.array(X_train), np.array(y_train)"
   ]
  },
  {
   "cell_type": "code",
   "execution_count": 72,
   "metadata": {},
   "outputs": [],
   "source": [
    "# 将二维数组转为三维数组,shape为( 1975, 60，1 )\n",
    "X_train = np.reshape(X_train, (X_train.shape[0], X_train.shape[1], 1))"
   ]
  },
  {
   "cell_type": "code",
   "execution_count": 18,
   "metadata": {},
   "outputs": [],
   "source": [
    "# Part 2 - 构建LSTM\n",
    "\n",
    "# 导入Keras库和包\n",
    "from keras.models import Sequential\n",
    "from keras.layers import Dense\n",
    "from keras.layers import LSTM\n",
    "from keras.layers import Dropout"
   ]
  },
  {
   "cell_type": "code",
   "execution_count": 19,
   "metadata": {},
   "outputs": [],
   "source": [
    "# 初始化RNN\n",
    "regressor = Sequential()\n",
    "\n",
    "# 添加第一个LSTM层和一些Dropout正则化\n",
    "regressor.add(LSTM(units = 50, return_sequences = True, input_shape = (X_train.shape[1], 1)))\n",
    "regressor.add(Dropout(0.2))"
   ]
  },
  {
   "cell_type": "code",
   "execution_count": 20,
   "metadata": {},
   "outputs": [],
   "source": [
    "# 添加第二个LSTM层和一些Dropout正则化\n",
    "regressor.add(LSTM(units = 50, return_sequences = True))\n",
    "regressor.add(Dropout(0.2))"
   ]
  },
  {
   "cell_type": "code",
   "execution_count": 21,
   "metadata": {},
   "outputs": [],
   "source": [
    "\n",
    "# 添加第三个LSTM层和一些Dropout正则化\n",
    "regressor.add(LSTM(units = 50, return_sequences = True))\n",
    "regressor.add(Dropout(0.2))"
   ]
  },
  {
   "cell_type": "code",
   "execution_count": 22,
   "metadata": {},
   "outputs": [],
   "source": [
    "# 添加第四个LSTM层和一些Dropout正则化\n",
    "regressor.add(LSTM(units = 50))\n",
    "regressor.add(Dropout(0.2))\n"
   ]
  },
  {
   "cell_type": "code",
   "execution_count": 23,
   "metadata": {},
   "outputs": [
    {
     "name": "stderr",
     "output_type": "stream",
     "text": [
      "W0701 22:21:01.769928  8636 deprecation_wrapper.py:119] From D:\\Anaconda3\\lib\\site-packages\\keras\\optimizers.py:790: The name tf.train.Optimizer is deprecated. Please use tf.compat.v1.train.Optimizer instead.\n",
      "\n",
      "W0701 22:21:02.135949  8636 deprecation.py:323] From D:\\Anaconda3\\lib\\site-packages\\tensorflow\\python\\ops\\math_grad.py:1250: add_dispatch_support.<locals>.wrapper (from tensorflow.python.ops.array_ops) is deprecated and will be removed in a future version.\n",
      "Instructions for updating:\n",
      "Use tf.where in 2.0, which has the same broadcast rule as np.where\n",
      "W0701 22:21:05.182123  8636 deprecation_wrapper.py:119] From D:\\Anaconda3\\lib\\site-packages\\keras\\backend\\tensorflow_backend.py:986: The name tf.assign_add is deprecated. Please use tf.compat.v1.assign_add instead.\n",
      "\n"
     ]
    },
    {
     "name": "stdout",
     "output_type": "stream",
     "text": [
      "Epoch 1/100\n",
      "1975/1975 [==============================] - 14s 7ms/step - loss: 0.0088\n",
      "Epoch 2/100\n",
      "1975/1975 [==============================] - 12s 6ms/step - loss: 0.0028\n",
      "Epoch 3/100\n",
      "1975/1975 [==============================] - 12s 6ms/step - loss: 0.0025\n",
      "Epoch 4/100\n",
      "1975/1975 [==============================] - 12s 6ms/step - loss: 0.0026\n",
      "Epoch 5/100\n",
      "1975/1975 [==============================] - 12s 6ms/step - loss: 0.0023\n",
      "Epoch 6/100\n",
      "1975/1975 [==============================] - 12s 6ms/step - loss: 0.0022\n",
      "Epoch 7/100\n",
      "1975/1975 [==============================] - 12s 6ms/step - loss: 0.0021\n",
      "Epoch 8/100\n",
      "1975/1975 [==============================] - 12s 6ms/step - loss: 0.0023\n",
      "Epoch 9/100\n",
      "1975/1975 [==============================] - 12s 6ms/step - loss: 0.0019\n",
      "Epoch 10/100\n",
      "1975/1975 [==============================] - 12s 6ms/step - loss: 0.0020: 0s - loss: 0.0\n",
      "Epoch 11/100\n",
      "1975/1975 [==============================] - 12s 6ms/step - loss: 0.0019: 2s \n",
      "Epoch 12/100\n",
      "1975/1975 [==============================] - 12s 6ms/step - loss: 0.0018\n",
      "Epoch 13/100\n",
      "1975/1975 [==============================] - 12s 6ms/step - loss: 0.0016\n",
      "Epoch 14/100\n",
      "1975/1975 [==============================] - 12s 6ms/step - loss: 0.0014\n",
      "Epoch 15/100\n",
      "1975/1975 [==============================] - 12s 6ms/step - loss: 0.0015\n",
      "Epoch 16/100\n",
      "1975/1975 [==============================] - 12s 6ms/step - loss: 0.0015\n",
      "Epoch 17/100\n",
      "1975/1975 [==============================] - 12s 6ms/step - loss: 0.0014\n",
      "Epoch 18/100\n",
      "1975/1975 [==============================] - 12s 6ms/step - loss: 0.0014: 1s - loss\n",
      "Epoch 19/100\n",
      "1975/1975 [==============================] - 12s 6ms/step - loss: 0.0014\n",
      "Epoch 20/100\n",
      "1975/1975 [==============================] - 12s 6ms/step - loss: 0.0013\n",
      "Epoch 21/100\n",
      "1975/1975 [==============================] - ETA: 0s - loss: 0.001 - 12s 6ms/step - loss: 0.0013\n",
      "Epoch 22/100\n",
      "1975/1975 [==============================] - 12s 6ms/step - loss: 0.0012\n",
      "Epoch 23/100\n",
      "1975/1975 [==============================] - 12s 6ms/step - loss: 0.0012: 8s - loss: - ETA: 6s - l - ETA: 4s - l - ETA: 2s -\n",
      "Epoch 24/100\n",
      "1975/1975 [==============================] - 13s 7ms/step - loss: 0.0013\n",
      "Epoch 25/100\n",
      "1975/1975 [==============================] - 12s 6ms/step - loss: 0.0012\n",
      "Epoch 26/100\n",
      "1975/1975 [==============================] - 11s 6ms/step - loss: 0.0011\n",
      "Epoch 27/100\n",
      "1975/1975 [==============================] - 11s 6ms/step - loss: 0.0011\n",
      "Epoch 28/100\n",
      "1975/1975 [==============================] - 12s 6ms/step - loss: 0.0011\n",
      "Epoch 29/100\n",
      "1975/1975 [==============================] - 12s 6ms/step - loss: 0.0011\n",
      "Epoch 30/100\n",
      "1975/1975 [==============================] - 12s 6ms/step - loss: 0.0011\n",
      "Epoch 31/100\n",
      "1975/1975 [==============================] - 12s 6ms/step - loss: 0.0011\n",
      "Epoch 32/100\n",
      "1975/1975 [==============================] - 12s 6ms/step - loss: 0.0011\n",
      "Epoch 33/100\n",
      "1975/1975 [==============================] - 12s 6ms/step - loss: 0.0011\n",
      "Epoch 34/100\n",
      "1975/1975 [==============================] - 12s 6ms/step - loss: 0.0010\n",
      "Epoch 35/100\n",
      "1975/1975 [==============================] - 13s 6ms/step - loss: 0.0011\n",
      "Epoch 36/100\n",
      "1975/1975 [==============================] - 12s 6ms/step - loss: 0.0010ETA: 1s - loss: 9.\n",
      "Epoch 37/100\n",
      "1975/1975 [==============================] - 13s 6ms/step - loss: 9.3847e-04\n",
      "Epoch 38/100\n",
      "1975/1975 [==============================] - 12s 6ms/step - loss: 9.6247e-04\n",
      "Epoch 39/100\n",
      "1975/1975 [==============================] - 12s 6ms/step - loss: 0.0010\n",
      "Epoch 40/100\n",
      "1975/1975 [==============================] - 12s 6ms/step - loss: 0.0010\n",
      "Epoch 41/100\n",
      "1975/1975 [==============================] - 12s 6ms/step - loss: 8.1713e-04\n",
      "Epoch 42/100\n",
      "1975/1975 [==============================] - 12s 6ms/step - loss: 7.7254e-04\n",
      "Epoch 43/100\n",
      "1975/1975 [==============================] - 12s 6ms/step - loss: 8.9166e-04A: 9s \n",
      "Epoch 44/100\n",
      "1975/1975 [==============================] - 12s 6ms/step - loss: 8.8509e-04\n",
      "Epoch 45/100\n",
      "1975/1975 [==============================] - 12s 6ms/step - loss: 9.4120e-04\n",
      "Epoch 46/100\n",
      "1975/1975 [==============================] - 12s 6ms/step - loss: 9.9634e-04\n",
      "Epoch 47/100\n",
      "1975/1975 [==============================] - 12s 6ms/step - loss: 0.0010\n",
      "Epoch 48/100\n",
      "1975/1975 [==============================] - 12s 6ms/step - loss: 9.9377e-04\n",
      "Epoch 49/100\n",
      "1975/1975 [==============================] - 12s 6ms/step - loss: 9.7347e-04\n",
      "Epoch 50/100\n",
      "1975/1975 [==============================] - 12s 6ms/step - loss: 9.5888e-04\n",
      "Epoch 51/100\n",
      "1975/1975 [==============================] - 12s 6ms/step - loss: 7.8382e-04\n",
      "Epoch 52/100\n",
      "1975/1975 [==============================] - 12s 6ms/step - loss: 7.6928e-04\n",
      "Epoch 53/100\n",
      "1975/1975 [==============================] - 12s 6ms/step - loss: 7.7779e-04\n",
      "Epoch 54/100\n",
      "1975/1975 [==============================] - 12s 6ms/step - loss: 8.5125e-04\n",
      "Epoch 55/100\n",
      "1975/1975 [==============================] - 13s 6ms/step - loss: 7.3933e-04\n",
      "Epoch 56/100\n",
      "1975/1975 [==============================] - 13s 6ms/step - loss: 7.4119e-04\n",
      "Epoch 57/100\n",
      "1975/1975 [==============================] - 12s 6ms/step - loss: 7.8674e-04\n",
      "Epoch 58/100\n",
      "1975/1975 [==============================] - 12s 6ms/step - loss: 7.0638e-04\n",
      "Epoch 59/100\n",
      "1975/1975 [==============================] - 12s 6ms/step - loss: 7.2979e-04\n",
      "Epoch 60/100\n",
      "1975/1975 [==============================] - 12s 6ms/step - loss: 7.9031e-04\n",
      "Epoch 61/100\n",
      "1975/1975 [==============================] - 12s 6ms/step - loss: 6.6754e-04: 1s - loss: 6\n",
      "Epoch 62/100\n",
      "1975/1975 [==============================] - ETA: 0s - loss: 7.5187e-04- ETA: 0s - loss: 7.3218 - 12s 6ms/step - loss: 7.5382e-04\n",
      "Epoch 63/100\n",
      "1975/1975 [==============================] - 12s 6ms/step - loss: 8.5066e-04\n",
      "Epoch 64/100\n",
      "1975/1975 [==============================] - 12s 6ms/step - loss: 7.7383e-04\n",
      "Epoch 65/100\n",
      "1975/1975 [==============================] - 12s 6ms/step - loss: 8.4371e-04\n",
      "Epoch 66/100\n",
      "1975/1975 [==============================] - 12s 6ms/step - loss: 8.0270e-04\n",
      "Epoch 67/100\n",
      "1975/1975 [==============================] - 12s 6ms/step - loss: 7.8776e-04\n",
      "Epoch 68/100\n",
      "1975/1975 [==============================] - 12s 6ms/step - loss: 5.9046e-04\n",
      "Epoch 69/100\n",
      "1975/1975 [==============================] - 12s 6ms/step - loss: 7.2255e-04\n",
      "Epoch 70/100\n",
      "1975/1975 [==============================] - 12s 6ms/step - loss: 7.7947e-04\n",
      "Epoch 71/100\n",
      "1975/1975 [==============================] - 12s 6ms/step - loss: 6.4702e-04\n",
      "Epoch 72/100\n",
      "1975/1975 [==============================] - 12s 6ms/step - loss: 7.0654e-04\n",
      "Epoch 73/100\n",
      "1975/1975 [==============================] - 12s 6ms/step - loss: 6.7450e-04\n",
      "Epoch 74/100\n",
      "1975/1975 [==============================] - 12s 6ms/step - loss: 7.1617e-04\n",
      "Epoch 75/100\n",
      "1975/1975 [==============================] - 12s 6ms/step - loss: 6.9173e-04\n",
      "Epoch 76/100\n",
      "1975/1975 [==============================] - 12s 6ms/step - loss: 6.0692e-04\n",
      "Epoch 77/100\n",
      "1975/1975 [==============================] - 12s 6ms/step - loss: 6.3112e-04\n",
      "Epoch 78/100\n",
      "1975/1975 [==============================] - 12s 6ms/step - loss: 6.1495e-04\n",
      "Epoch 79/100\n",
      "1975/1975 [==============================] - 12s 6ms/step - loss: 5.5334e-04\n",
      "Epoch 80/100\n",
      "1975/1975 [==============================] - 12s 6ms/step - loss: 6.3593e-04\n",
      "Epoch 81/100\n",
      "1975/1975 [==============================] - 12s 6ms/step - loss: 7.4178e-04\n",
      "Epoch 82/100\n",
      "1975/1975 [==============================] - 12s 6ms/step - loss: 7.5016e-04\n",
      "Epoch 83/100\n",
      "1975/1975 [==============================] - 12s 6ms/step - loss: 6.5228e-04\n",
      "Epoch 84/100\n",
      "1975/1975 [==============================] - 12s 6ms/step - loss: 6.9936e-04\n",
      "Epoch 85/100\n",
      "1975/1975 [==============================] - 12s 6ms/step - loss: 7.8239e-04\n",
      "Epoch 86/100\n",
      "1975/1975 [==============================] - 12s 6ms/step - loss: 8.1999e-04\n",
      "Epoch 87/100\n",
      "1975/1975 [==============================] - 12s 6ms/step - loss: 6.1080e-04\n",
      "Epoch 88/100\n",
      "1975/1975 [==============================] - 12s 6ms/step - loss: 6.3186e-04\n",
      "Epoch 89/100\n",
      "1975/1975 [==============================] - 12s 6ms/step - loss: 6.4861e-04\n",
      "Epoch 90/100\n",
      "1975/1975 [==============================] - 12s 6ms/step - loss: 6.9102e-04\n",
      "Epoch 91/100\n",
      "1975/1975 [==============================] - 12s 6ms/step - loss: 6.7119e-04\n",
      "Epoch 92/100\n",
      "1975/1975 [==============================] - 12s 6ms/step - loss: 7.2359e-04\n",
      "Epoch 93/100\n",
      "1975/1975 [==============================] - 12s 6ms/step - loss: 6.3279e-04: 3s -\n",
      "Epoch 94/100\n",
      "1975/1975 [==============================] - 12s 6ms/step - loss: 5.6754e-04\n",
      "Epoch 95/100\n",
      "1975/1975 [==============================] - 12s 6ms/step - loss: 6.2246e-04\n",
      "Epoch 96/100\n",
      "1975/1975 [==============================] - 12s 6ms/step - loss: 5.7482e-04\n",
      "Epoch 97/100\n",
      "1975/1975 [==============================] - 12s 6ms/step - loss: 7.3689e-04\n",
      "Epoch 98/100\n",
      "1975/1975 [==============================] - 12s 6ms/step - loss: 6.2984e-04\n",
      "Epoch 99/100\n",
      "1975/1975 [==============================] - 12s 6ms/step - loss: 9.0482e-04\n",
      "Epoch 100/100\n",
      "1975/1975 [==============================] - 12s 6ms/step - loss: 6.2252e-04: 0s - loss: 6.1574\n"
     ]
    },
    {
     "data": {
      "text/plain": [
       "<keras.callbacks.History at 0x11edd4e0>"
      ]
     },
     "execution_count": 23,
     "metadata": {},
     "output_type": "execute_result"
    }
   ],
   "source": [
    "# 添加输出图层\n",
    "regressor.add(Dense(units = 1))\n",
    "\n",
    "# 编译RNN\n",
    "regressor.compile(optimizer = 'adam', loss = 'mean_squared_error')\n",
    "\n",
    "# 将RNN安装到训练集\n",
    "regressor.fit(X_train, y_train, epochs = 100, batch_size = 32)\n",
    "\n"
   ]
  },
  {
   "cell_type": "code",
   "execution_count": 81,
   "metadata": {},
   "outputs": [],
   "source": [
    "# Part 3 - 进行预测并可视化结果\n",
    "\n",
    "# 获得2017年的实际股票价格\n",
    "dataset_test = pd.read_csv('tatatest.csv')\n",
    "# 选取2017年的实际股票价格'Open'列数据\n",
    "real_stock_price = dataset_test.iloc[:, 1:2].values"
   ]
  },
  {
   "cell_type": "code",
   "execution_count": 74,
   "metadata": {},
   "outputs": [
    {
     "ename": "NameError",
     "evalue": "name 'regressor' is not defined",
     "output_type": "error",
     "traceback": [
      "\u001b[1;31m---------------------------------------------------------------------------\u001b[0m",
      "\u001b[1;31mNameError\u001b[0m                                 Traceback (most recent call last)",
      "\u001b[1;32m<ipython-input-74-23509c3ebae1>\u001b[0m in \u001b[0;36m<module>\u001b[1;34m()\u001b[0m\n\u001b[0;32m      9\u001b[0m \u001b[0mX_test\u001b[0m \u001b[1;33m=\u001b[0m \u001b[0mnp\u001b[0m\u001b[1;33m.\u001b[0m\u001b[0marray\u001b[0m\u001b[1;33m(\u001b[0m\u001b[0mX_test\u001b[0m\u001b[1;33m)\u001b[0m\u001b[1;33m\u001b[0m\u001b[0m\n\u001b[0;32m     10\u001b[0m \u001b[0mX_test\u001b[0m \u001b[1;33m=\u001b[0m \u001b[0mnp\u001b[0m\u001b[1;33m.\u001b[0m\u001b[0mreshape\u001b[0m\u001b[1;33m(\u001b[0m\u001b[0mX_test\u001b[0m\u001b[1;33m,\u001b[0m \u001b[1;33m(\u001b[0m\u001b[0mX_test\u001b[0m\u001b[1;33m.\u001b[0m\u001b[0mshape\u001b[0m\u001b[1;33m[\u001b[0m\u001b[1;36m0\u001b[0m\u001b[1;33m]\u001b[0m\u001b[1;33m,\u001b[0m \u001b[0mX_test\u001b[0m\u001b[1;33m.\u001b[0m\u001b[0mshape\u001b[0m\u001b[1;33m[\u001b[0m\u001b[1;36m1\u001b[0m\u001b[1;33m]\u001b[0m\u001b[1;33m,\u001b[0m \u001b[1;36m1\u001b[0m\u001b[1;33m)\u001b[0m\u001b[1;33m)\u001b[0m\u001b[1;33m\u001b[0m\u001b[0m\n\u001b[1;32m---> 11\u001b[1;33m \u001b[0mpredicted_stock_price\u001b[0m \u001b[1;33m=\u001b[0m \u001b[0mregressor\u001b[0m\u001b[1;33m.\u001b[0m\u001b[0mpredict\u001b[0m\u001b[1;33m(\u001b[0m\u001b[0mX_test\u001b[0m\u001b[1;33m)\u001b[0m\u001b[1;33m\u001b[0m\u001b[0m\n\u001b[0m\u001b[0;32m     12\u001b[0m \u001b[0mpredicted_stock_price\u001b[0m \u001b[1;33m=\u001b[0m \u001b[0msc\u001b[0m\u001b[1;33m.\u001b[0m\u001b[0minverse_transform\u001b[0m\u001b[1;33m(\u001b[0m\u001b[0mpredicted_stock_price\u001b[0m\u001b[1;33m)\u001b[0m\u001b[1;33m\u001b[0m\u001b[0m\n",
      "\u001b[1;31mNameError\u001b[0m: name 'regressor' is not defined"
     ]
    }
   ],
   "source": [
    "# 获得2017年的预测股票价格\n",
    "\n",
    "# 纵向连接训练集'Open'列与测试集'Open'列\n",
    "dataset_total = pd.concat((dataset_train['Open'], dataset_test['Open']), axis = 0)\n",
    "\n",
    "inputs = dataset_total[len(dataset_total) - len(dataset_test) - 60:].values\n",
    "inputs = inputs.reshape(-1,1)\n",
    "inputs = sc.transform(inputs)\n",
    "X_test = []\n",
    "for i in range(60, 76):\n",
    "    X_test.append(inputs[i-60:i, 0])\n",
    "X_test = np.array(X_test)\n",
    "X_test = np.reshape(X_test, (X_test.shape[0], X_test.shape[1], 1))\n",
    "predicted_stock_price = regressor.predict(X_test)\n",
    "predicted_stock_price = sc.inverse_transform(predicted_stock_price)\n"
   ]
  },
  {
   "cell_type": "code",
   "execution_count": 26,
   "metadata": {},
   "outputs": [
    {
     "data": {
      "image/png": "[encoded data removed]",
      "text/plain": [
       "<Figure size 432x288 with 1 Axes>"
      ]
     },
     "metadata": {
      "needs_background": "light"
     },
     "output_type": "display_data"
    }
   ],
   "source": [
    "# 可视化结果\n",
    "plt.plot(real_stock_price, color = 'red', label = 'Real TATA Stock Price')\n",
    "plt.plot(predicted_stock_price, color = 'blue', label = 'Predicted TAT Stock Price')\n",
    "plt.title('TATA Stock Price Prediction')\n",
    "plt.xlabel('Time')\n",
    "plt.ylabel('TATA Stock Price')\n",
    "plt.legend()\n",
    "plt.show()"
   ]
  }
 ],
 "metadata": {
  "kernelspec": {
   "display_name": "Python 3",
   "language": "python",
   "name": "python3"
  },
  "language_info": {
   "codemirror_mode": {
    "name": "ipython",
    "version": 3
   },
   "file_extension": ".py",
   "mimetype": "text/x-python",
   "name": "python",
   "nbconvert_exporter": "python",
   "pygments_lexer": "ipython3",
   "version": "3.7.0"
  }
 },
 "nbformat": 4,
 "nbformat_minor": 2
}
